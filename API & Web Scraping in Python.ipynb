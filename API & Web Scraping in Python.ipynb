{
 "cells": [
  {
   "cell_type": "markdown",
   "id": "4476c7a0",
   "metadata": {},
   "source": [
    "### 1. Working with APIs\n",
    "#### Types of Requests: GET "
   ]
  },
  {
   "cell_type": "code",
   "execution_count": 1,
   "id": "2f897500",
   "metadata": {},
   "outputs": [
    {
     "name": "stdout",
     "output_type": "stream",
     "text": [
      "200\n",
      "b'{\"timestamp\": 1671919490, \"message\": \"success\", \"iss_position\": {\"longitude\": \"174.5157\", \"latitude\": \"45.0870\"}}'\n"
     ]
    }
   ],
   "source": [
    "# import request module \n",
    "import requests\n",
    "\n",
    "# Make a get request to get the latest position of the ISS(International Space Station) from the OpenNotify API (NASA)\n",
    "response = requests.get(\"http://api.open-notify.org/iss-now.json\")\n",
    "stat_code = response.status_code\n",
    "print(stat_code)\n",
    "print(response.content)\n"
   ]
  },
  {
   "cell_type": "markdown",
   "id": "bee1ecaf",
   "metadata": {},
   "source": [
    "##### Understanding Status Codes\n",
    "\n",
    "The request we just made returned a status code of `200`. Web servers return status codes every time they receive an API request. A status code reports what happened with a request. Here are some codes that are relevant to GET requests:\n",
    "\n",
    "`200` — Everything went okay, and the server returned a result (if any).\n",
    "\n",
    "`301` — The server is redirecting you to a different endpoint. This can happen when a company switches domain names, or when an endpoint's name has changed.\n",
    "\n",
    "`401` — The server thinks you're not authenticated. This happens when you don't send the right credentials to access an API.\n",
    "\n",
    "`400` — The server thinks you made a bad request. This can happen when you don't send the information that the API requires to process your request (among other things).\n",
    "\n",
    "`403` — The resource you're trying to access is forbidden, and you don't have the right permissions to see it.\n",
    "`404` — The server didn't find the resource you tried to access."
   ]
  },
  {
   "cell_type": "code",
   "execution_count": 2,
   "id": "88df2468",
   "metadata": {},
   "outputs": [
    {
     "data": {
      "text/plain": [
       "404"
      ]
     },
     "execution_count": 2,
     "metadata": {},
     "output_type": "execute_result"
    }
   ],
   "source": [
    "response = requests.get(\"http://api.open-notify.org/iss-pass\")\n",
    "status_code = response.status_code\n",
    "status_code\n"
   ]
  },
  {
   "cell_type": "markdown",
   "id": "0b4254e9",
   "metadata": {},
   "source": [
    " For example the above  request iss-pass wasn't a valid endpoint, so the API's server sent us a 404 status code in response. We forgot to add .json at the end\n"
   ]
  },
  {
   "cell_type": "markdown",
   "id": "1aa8b68d",
   "metadata": {},
   "source": [
    "#### Adding Query Parameters"
   ]
  },
  {
   "cell_type": "code",
   "execution_count": 3,
   "id": "ef1a26e4",
   "metadata": {
    "scrolled": true
   },
   "outputs": [
    {
     "name": "stdout",
     "output_type": "stream",
     "text": [
      "b'{\"timestamp\": 1671919491, \"message\": \"success\", \"iss_position\": {\"longitude\": \"174.5921\", \"latitude\": \"45.0561\"}}'\n",
      "b'{\"timestamp\": 1671919492, \"message\": \"success\", \"iss_position\": {\"longitude\": \"174.6303\", \"latitude\": \"45.0406\"}}'\n"
     ]
    }
   ],
   "source": [
    "# import request module \n",
    "import requests\n",
    "# Set up the parameters we want to pass to the API.\n",
    "# This is the latitude and longitude of the coordinates of San Francisco.\n",
    "parameters = {\"lat\": 37.78, \"lon\": -122.41}\n",
    "\n",
    "# Make a get request with the parameters.\n",
    "response = requests.get(\"http://api.open-notify.org/iss-now.json\", params=parameters)\n",
    "\n",
    "# Print the content of the response (the data the server returned)\n",
    "print(response.content)\n",
    "\n",
    "content = response.content\n",
    "# This gets the same data as the command above\n",
    "response = requests.get(\"http://api.open-notify.org/iss-now.json?lat=37.78&lon=-122.41\")\n",
    "print(response.content)"
   ]
  },
  {
   "cell_type": "markdown",
   "id": "c53d198d",
   "metadata": {},
   "source": [
    "#### JSON Formats"
   ]
  },
  {
   "cell_type": "code",
   "execution_count": 6,
   "id": "e2d213fa",
   "metadata": {
    "scrolled": true
   },
   "outputs": [
    {
     "name": "stdout",
     "output_type": "stream",
     "text": [
      "<class 'list'>\n",
      "<class 'str'>\n",
      "[\"Taco Bell\", \"Shake Shack\", \"Chipotle\"]\n",
      "<class 'list'>\n",
      "<class 'dict'>\n",
      "<class 'str'>\n",
      "{\"Subway\": 24722, \"McDonalds\": 14098, \"Starbucks\": 10821, \"Pizza Hut\": 7600}\n",
      "<class 'dict'>\n"
     ]
    }
   ],
   "source": [
    "# Make a list of fast food chains.\n",
    "best_food_chains = [\"Taco Bell\", \"Shake Shack\", \"Chipotle\"]\n",
    "print(type(best_food_chains))\n",
    "\n",
    "# Import the JSON library.\n",
    "import json\n",
    "\n",
    "# Use json.dumps to convert best_food_chains to a string.\n",
    "best_food_chains_string = json.dumps(best_food_chains)\n",
    "print(type(best_food_chains_string))\n",
    "print(best_food_chains_string)\n",
    "# Convert best_food_chains_string back to a list.\n",
    "print(type(json.loads(best_food_chains_string)))\n",
    "\n",
    "# Make a dictionary\n",
    "fast_food_franchise = {\n",
    "    \"Subway\": 24722,\n",
    "    \"McDonalds\": 14098,\n",
    "    \"Starbucks\": 10821,\n",
    "    \"Pizza Hut\": 7600\n",
    "}\n",
    "print(type(fast_food_franchise))\n",
    "\n",
    "# We can also dump a dictionary to a string and load it.\n",
    "fast_food_franchise_string = json.dumps(fast_food_franchise)\n",
    "print(type(fast_food_franchise_string))\n",
    "print(fast_food_franchise_string)\n",
    "# Use the JSON function loads to Convert fast_food_franchise_string to a Python object\n",
    "fast_food_franchise_2 = json.loads(fast_food_franchise_string)\n",
    "print(type(fast_food_franchise_2))"
   ]
  },
  {
   "cell_type": "markdown",
   "id": "f52547dd",
   "metadata": {},
   "source": [
    "#### Getting JSON From a Request\n",
    "We can get the content of a response as a Python object by using the .json() method on the response."
   ]
  },
  {
   "cell_type": "code",
   "execution_count": 7,
   "id": "20bdaa5d",
   "metadata": {},
   "outputs": [
    {
     "name": "stdout",
     "output_type": "stream",
     "text": [
      "<class 'dict'>\n",
      "{'timestamp': 1671919558, 'message': 'success', 'iss_position': {'longitude': '179.5179', 'latitude': '42.8626'}}\n"
     ]
    }
   ],
   "source": [
    "# Make the same request like we did in the above examples\n",
    "parameters = {\"lat\": 37.78, \"lon\": -122.41}\n",
    "# Make a get request with the parameters.\n",
    "response = requests.get(\"http://api.open-notify.org/iss-now.json\", params=parameters)\n",
    "\n",
    "# Get the response data as a Python object.  Verify that it's a dictionary.\n",
    "json_data = response.json()\n",
    "print(type(json_data))\n",
    "print(json_data)\n",
    "\n",
    "# Get the value from \"duration\" column\n",
    "first_pass_duration = json_data['response'][0]['duration']\n",
    "print(first_pass_duration)\n"
   ]
  },
  {
   "cell_type": "markdown",
   "id": "5f2b029a",
   "metadata": {},
   "source": [
    "#### Content Type\n",
    "\n",
    "The server sends more than a status code and the data when it generates a response. It also sends metadata with information on how it generated the data and how to decode it. This information appears in the response headers. We can access it using the .headers property.\n",
    "\n",
    "The headers will appear as a dictionary. For now, the content-type within the headers is the most important key. It tells us the format of the response, and how to decode it. For the OpenNotify API, the format is JSON, so we were able to decode it with JSON earlier."
   ]
  },
  {
   "cell_type": "code",
   "execution_count": 8,
   "id": "d7fbdb15",
   "metadata": {
    "scrolled": true
   },
   "outputs": [
    {
     "name": "stdout",
     "output_type": "stream",
     "text": [
      "{'Server': 'nginx/1.10.3', 'Date': 'Sat, 24 Dec 2022 22:05:59 GMT', 'Content-Type': 'application/json', 'Content-Length': '113', 'Connection': 'keep-alive', 'access-control-allow-origin': '*'}\n",
      "content_type: \n",
      "\n",
      "application/json\n"
     ]
    }
   ],
   "source": [
    "# Headers is a dictionary\n",
    "print(response.headers)\n",
    "content_type = response.headers['content-type']\n",
    "print('content_type: \\n')\n",
    "print(content_type)"
   ]
  },
  {
   "cell_type": "markdown",
   "id": "d5d414a8",
   "metadata": {},
   "source": [
    "### 2. Intermediate APIs\n",
    "#### API Authentication"
   ]
  }
 ],
 "metadata": {
  "kernelspec": {
   "display_name": "Python 3 (ipykernel)",
   "language": "python",
   "name": "python3"
  },
  "language_info": {
   "codemirror_mode": {
    "name": "ipython",
    "version": 3
   },
   "file_extension": ".py",
   "mimetype": "text/x-python",
   "name": "python",
   "nbconvert_exporter": "python",
   "pygments_lexer": "ipython3",
   "version": "3.10.1"
  }
 },
 "nbformat": 4,
 "nbformat_minor": 5
}
