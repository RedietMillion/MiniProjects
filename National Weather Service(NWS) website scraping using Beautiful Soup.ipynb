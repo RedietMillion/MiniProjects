{
 "cells": [
  {
   "cell_type": "markdown",
   "id": "dfe68abd",
   "metadata": {},
   "source": [
    "### 1. Download the page and start parsing it\n",
    "    - Download the webpage containg the forecast\n",
    "    - Create a `BeautifulSoup` class to parse the page \n",
    "    - Find the `div` with id `seven-day-forecast`, and assign to `seven_day`\n",
    "    - Inside `seven-day`, find each individual forecast item \n",
    "    - Extract and print the first forecast item \n",
    "    "
   ]
  },
  {
   "cell_type": "code",
   "execution_count": 16,
   "id": "ba5ac71e",
   "metadata": {
    "scrolled": true
   },
   "outputs": [
    {
     "name": "stdout",
     "output_type": "stream",
     "text": [
      "<div class=\"tombstone-container\">\n",
      " <p class=\"period-name\">\n",
      "  Overnight\n",
      "  <br/>\n",
      "  <br/>\n",
      " </p>\n",
      " <p>\n",
      "  <img alt=\"Overnight: Mostly cloudy, with a low around 48. North northwest wind around 7 mph. \" class=\"forecast-icon\" src=\"newimages/medium/nbkn.png\" title=\"Overnight: Mostly cloudy, with a low around 48. North northwest wind around 7 mph. \"/>\n",
      " </p>\n",
      " <p class=\"short-desc\">\n",
      "  Mostly Cloudy\n",
      " </p>\n",
      " <p class=\"temp temp-low\">\n",
      "  Low: 48 °F\n",
      " </p>\n",
      "</div>\n"
     ]
    }
   ],
   "source": [
    "# import the necessary libraries \n",
    "import requests \n",
    "from bs4 import BeautifulSoup \n",
    "\n",
    "# Download the page using GET request\n",
    "page = requests.get(\"https://forecast.weather.gov/MapClick.php?lat=37.7772&lon=-122.4168\")\n",
    "\n",
    "# Create a BeautifulSoup class to parse the page\n",
    "soup = BeautifulSoup(page.content, 'html.parser')\n",
    "\n",
    "# Find the `div` with id `seven-day-forecast`, and assign to `seven_day`\n",
    "seven_day = soup.find(id = \"seven-day-forecast\")\n",
    "#print(seven_day)\n",
    "\n",
    "#Inside `seven-day`, find each individual forecast item \n",
    "forecast_items = seven_day.find_all(class_=\"tombstone-container\")\n",
    "#Inside `seven-day`, find each individual forecast item\n",
    "tonight = forecast_items[0]\n",
    "# Extract and print \n",
    "print(tonight.prettify())"
   ]
  },
  {
   "cell_type": "markdown",
   "id": "d1df32ca",
   "metadata": {},
   "source": [
    "### 2. Extracting information from the page\n",
    "As we can see, inside the forecast item `Overnight` is all the information we want. There are four pieces of information we can extract:\n",
    "\n",
    "    -The name of the forecast item — in this case, `Overnight`.\n",
    "    -The description of the conditions — this is stored in the title property of img.\n",
    "    -A short description of the conditions — in this case, Mostly Cloudy.\n",
    "    -The temperature low — in this case, 48 degrees."
   ]
  },
  {
   "cell_type": "code",
   "execution_count": 19,
   "id": "3565edb1",
   "metadata": {
    "scrolled": false
   },
   "outputs": [
    {
     "name": "stdout",
     "output_type": "stream",
     "text": [
      "Overnight\n",
      "Overnight: Mostly cloudy, with a low around 48. North northwest wind around 7 mph. \n",
      "Mostly Cloudy\n",
      "Low: 48 °F\n"
     ]
    }
   ],
   "source": [
    "#Extract the name of forecast item which is Overnight\n",
    "period = tonight.find(class_=\"period-name\").get_text()\n",
    "\n",
    "#The description of the conditions — this is stored in the title property of img.\n",
    "img_title = tonight.find(\"img\")['title']\n",
    "\n",
    "# Extract the description of the conditions — this is stored in the title property of img.\n",
    "short_desc = tonight.find(class_=\"short-desc\").get_text()\n",
    "\n",
    "# Extract the temperature \n",
    "temp = tonight.find(class_=\"temp temp-low\").get_text()\n",
    "\n",
    "# \n",
    "\n",
    "# Print the information\n",
    "print(period)\n",
    "print(img_title)\n",
    "print(short_desc)\n",
    "print(temp)"
   ]
  },
  {
   "cell_type": "markdown",
   "id": "96bfd0c3",
   "metadata": {},
   "source": [
    "### 3. Extracting all the information from the page \n",
    "Now that we know how to extract each individual piece of information, we can combine our knowledge with CSS selectors and list comprehensions to **extract everything at once**.\n",
    "In the below code, we will:\n",
    "\n",
    "    -Select all items with the class `period-name` inside an item with the class `tombstone-container` in `seven_day`.\n",
    "    -Use a list comprehension to call the `get_text` method on each `BeautifulSoup` object."
   ]
  },
  {
   "cell_type": "code",
   "execution_count": 21,
   "id": "37002c8c",
   "metadata": {
    "scrolled": true
   },
   "outputs": [
    {
     "data": {
      "text/plain": [
       "['Overnight',\n",
       " 'Monday',\n",
       " 'MondayNight',\n",
       " 'Tuesday',\n",
       " 'TuesdayNight',\n",
       " 'Wednesday',\n",
       " 'WednesdayNight',\n",
       " 'Thursday',\n",
       " 'ThursdayNight']"
      ]
     },
     "execution_count": 21,
     "metadata": {},
     "output_type": "execute_result"
    }
   ],
   "source": [
    "#Select all items with the class `period-name` inside an item with the class `tombstone-container` in `seven_day\n",
    "period_tags = seven_day.select(\".tombstone-container .period-name\")\n",
    "periods = [pt.get_text() for pt in period_tags]\n",
    "periods"
   ]
  },
  {
   "cell_type": "code",
   "execution_count": 22,
   "id": "35bd0488",
   "metadata": {
    "scrolled": true
   },
   "outputs": [
    {
     "name": "stdout",
     "output_type": "stream",
     "text": [
      "['Mostly Cloudy', 'Cloudy thenRain', 'Showers andBreezy', 'Showers andBreezy thenRain Likely', 'Chance Rain', 'Chance Rain', 'Rain', 'Rain', 'Rain']\n",
      "['Low: 48 °F', 'High: 59 °F', 'Low: 55 °F', 'High: 60 °F', 'Low: 48 °F', 'High: 57 °F', 'Low: 49 °F', 'High: 57 °F', 'Low: 52 °F']\n",
      "['Overnight: Mostly cloudy, with a low around 48. North northwest wind around 7 mph. ', 'Monday: Rain after 5pm.  High near 59. North northeast wind around 5 mph becoming calm.  Chance of precipitation is 80%.', 'Monday Night: Rain before 2am, then showers and possibly a thunderstorm after 2am.  Steady temperature around 55. Breezy, with a south wind 7 to 12 mph increasing to 21 to 26 mph after midnight. Winds could gust as high as 43 mph.  Chance of precipitation is 100%. New rainfall amounts between a half and three quarters of an inch possible. ', 'Tuesday: Rain and possibly a thunderstorm before 11am, then rain likely.  High near 60. Breezy, with a southwest wind 15 to 23 mph, with gusts as high as 39 mph.  Chance of precipitation is 100%. New precipitation amounts between three quarters and one inch possible. ', 'Tuesday Night: A 40 percent chance of rain, mainly before 11pm.  Mostly cloudy, with a low around 48. West northwest wind 8 to 13 mph, with gusts as high as 21 mph.  New precipitation amounts between a tenth and quarter of an inch possible. ', 'Wednesday: A 30 percent chance of rain, mainly after 11am.  Mostly sunny, with a high near 57.', 'Wednesday Night: Rain, mainly after 11pm.  Low around 49. Chance of precipitation is 80%.', 'Thursday: Rain.  Mostly cloudy, with a high near 57.', 'Thursday Night: Rain.  Cloudy, with a low around 52.']\n"
     ]
    }
   ],
   "source": [
    "# Use a list comprehension to call the `get_text` method on each `BeautifulSoup` object.\n",
    "short_descs = [sd.get_text() for sd in seven_day.select(\".tombstone-container .short-desc\")]\n",
    "temps = [t.get_text() for t in seven_day.select(\".tombstone-container .temp\")]\n",
    "descs = [d[\"title\"] for d in seven_day.select(\".tombstone-container img\")]\n",
    "\n",
    "print(short_descs)\n",
    "print(temps)\n",
    "print(descs)"
   ]
  },
  {
   "cell_type": "markdown",
   "id": "f5010f75",
   "metadata": {},
   "source": [
    "### 4. Combining our data into a Pandas Dataframe\n"
   ]
  },
  {
   "cell_type": "code",
   "execution_count": 23,
   "id": "fdc78d3a",
   "metadata": {},
   "outputs": [
    {
     "data": {
      "text/html": [
       "<div>\n",
       "<style scoped>\n",
       "    .dataframe tbody tr th:only-of-type {\n",
       "        vertical-align: middle;\n",
       "    }\n",
       "\n",
       "    .dataframe tbody tr th {\n",
       "        vertical-align: top;\n",
       "    }\n",
       "\n",
       "    .dataframe thead th {\n",
       "        text-align: right;\n",
       "    }\n",
       "</style>\n",
       "<table border=\"1\" class=\"dataframe\">\n",
       "  <thead>\n",
       "    <tr style=\"text-align: right;\">\n",
       "      <th></th>\n",
       "      <th>period</th>\n",
       "      <th>short_desc</th>\n",
       "      <th>temp</th>\n",
       "      <th>desc</th>\n",
       "    </tr>\n",
       "  </thead>\n",
       "  <tbody>\n",
       "    <tr>\n",
       "      <th>0</th>\n",
       "      <td>Overnight</td>\n",
       "      <td>Mostly Cloudy</td>\n",
       "      <td>Low: 48 °F</td>\n",
       "      <td>Overnight: Mostly cloudy, with a low around 48...</td>\n",
       "    </tr>\n",
       "    <tr>\n",
       "      <th>1</th>\n",
       "      <td>Monday</td>\n",
       "      <td>Cloudy thenRain</td>\n",
       "      <td>High: 59 °F</td>\n",
       "      <td>Monday: Rain after 5pm.  High near 59. North n...</td>\n",
       "    </tr>\n",
       "    <tr>\n",
       "      <th>2</th>\n",
       "      <td>MondayNight</td>\n",
       "      <td>Showers andBreezy</td>\n",
       "      <td>Low: 55 °F</td>\n",
       "      <td>Monday Night: Rain before 2am, then showers an...</td>\n",
       "    </tr>\n",
       "    <tr>\n",
       "      <th>3</th>\n",
       "      <td>Tuesday</td>\n",
       "      <td>Showers andBreezy thenRain Likely</td>\n",
       "      <td>High: 60 °F</td>\n",
       "      <td>Tuesday: Rain and possibly a thunderstorm befo...</td>\n",
       "    </tr>\n",
       "    <tr>\n",
       "      <th>4</th>\n",
       "      <td>TuesdayNight</td>\n",
       "      <td>Chance Rain</td>\n",
       "      <td>Low: 48 °F</td>\n",
       "      <td>Tuesday Night: A 40 percent chance of rain, ma...</td>\n",
       "    </tr>\n",
       "    <tr>\n",
       "      <th>5</th>\n",
       "      <td>Wednesday</td>\n",
       "      <td>Chance Rain</td>\n",
       "      <td>High: 57 °F</td>\n",
       "      <td>Wednesday: A 30 percent chance of rain, mainly...</td>\n",
       "    </tr>\n",
       "    <tr>\n",
       "      <th>6</th>\n",
       "      <td>WednesdayNight</td>\n",
       "      <td>Rain</td>\n",
       "      <td>Low: 49 °F</td>\n",
       "      <td>Wednesday Night: Rain, mainly after 11pm.  Low...</td>\n",
       "    </tr>\n",
       "    <tr>\n",
       "      <th>7</th>\n",
       "      <td>Thursday</td>\n",
       "      <td>Rain</td>\n",
       "      <td>High: 57 °F</td>\n",
       "      <td>Thursday: Rain.  Mostly cloudy, with a high ne...</td>\n",
       "    </tr>\n",
       "    <tr>\n",
       "      <th>8</th>\n",
       "      <td>ThursdayNight</td>\n",
       "      <td>Rain</td>\n",
       "      <td>Low: 52 °F</td>\n",
       "      <td>Thursday Night: Rain.  Cloudy, with a low arou...</td>\n",
       "    </tr>\n",
       "  </tbody>\n",
       "</table>\n",
       "</div>"
      ],
      "text/plain": [
       "           period                         short_desc         temp  \\\n",
       "0       Overnight                      Mostly Cloudy   Low: 48 °F   \n",
       "1          Monday                    Cloudy thenRain  High: 59 °F   \n",
       "2     MondayNight                  Showers andBreezy   Low: 55 °F   \n",
       "3         Tuesday  Showers andBreezy thenRain Likely  High: 60 °F   \n",
       "4    TuesdayNight                        Chance Rain   Low: 48 °F   \n",
       "5       Wednesday                        Chance Rain  High: 57 °F   \n",
       "6  WednesdayNight                               Rain   Low: 49 °F   \n",
       "7        Thursday                               Rain  High: 57 °F   \n",
       "8   ThursdayNight                               Rain   Low: 52 °F   \n",
       "\n",
       "                                                desc  \n",
       "0  Overnight: Mostly cloudy, with a low around 48...  \n",
       "1  Monday: Rain after 5pm.  High near 59. North n...  \n",
       "2  Monday Night: Rain before 2am, then showers an...  \n",
       "3  Tuesday: Rain and possibly a thunderstorm befo...  \n",
       "4  Tuesday Night: A 40 percent chance of rain, ma...  \n",
       "5  Wednesday: A 30 percent chance of rain, mainly...  \n",
       "6  Wednesday Night: Rain, mainly after 11pm.  Low...  \n",
       "7  Thursday: Rain.  Mostly cloudy, with a high ne...  \n",
       "8  Thursday Night: Rain.  Cloudy, with a low arou...  "
      ]
     },
     "execution_count": 23,
     "metadata": {},
     "output_type": "execute_result"
    }
   ],
   "source": [
    "# Import pandas library\n",
    "import pandas as pd \n",
    "\n",
    "weather = pd.DataFrame({\n",
    "    \"period\": periods,\n",
    "    \"short_desc\": short_descs,\n",
    "    \"temp\": temps,\n",
    "    \"desc\": descs\n",
    "})\n",
    "\n",
    "weather"
   ]
  }
 ],
 "metadata": {
  "kernelspec": {
   "display_name": "Python 3 (ipykernel)",
   "language": "python",
   "name": "python3"
  },
  "language_info": {
   "codemirror_mode": {
    "name": "ipython",
    "version": 3
   },
   "file_extension": ".py",
   "mimetype": "text/x-python",
   "name": "python",
   "nbconvert_exporter": "python",
   "pygments_lexer": "ipython3",
   "version": "3.10.1"
  }
 },
 "nbformat": 4,
 "nbformat_minor": 5
}
